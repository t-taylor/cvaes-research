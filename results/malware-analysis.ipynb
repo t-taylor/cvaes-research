{
 "cells": [
  {
   "cell_type": "code",
   "execution_count": 1,
   "id": "030242ba",
   "metadata": {},
   "outputs": [],
   "source": [
    "import pandas as pd\n",
    "import matplotlib.pyplot as plt\n",
    "import seaborn as sns\n",
    "import numpy as np"
   ]
  },
  {
   "cell_type": "code",
   "execution_count": 2,
   "id": "7116a121",
   "metadata": {},
   "outputs": [
    {
     "name": "stdout",
     "output_type": "stream",
     "text": [
      "size of malware results 55440\n"
     ]
    }
   ],
   "source": [
    "maldf = pd.read_csv(\"malware-multiclass-results.csv\")\n",
    "print('size of malware results', len(maldf))"
   ]
  },
  {
   "cell_type": "code",
   "execution_count": 3,
   "id": "72efea25",
   "metadata": {},
   "outputs": [
    {
     "data": {
      "text/plain": [
       "Index(['dimred', 'modeltype', 'accuracy', 'precision', 'recall', 'f1', 'mcc'], dtype='object')"
      ]
     },
     "execution_count": 3,
     "metadata": {},
     "output_type": "execute_result"
    }
   ],
   "source": [
    "maldf.columns"
   ]
  },
  {
   "cell_type": "code",
   "execution_count": 4,
   "id": "38fd7210",
   "metadata": {},
   "outputs": [],
   "source": [
    "maldf = maldf[~(maldf['modeltype']=='svm_poly')]\n",
    "maldf = maldf[~(maldf['modeltype']=='nn_1')]\n",
    "maldf = maldf[~(maldf['modeltype']=='nn_3')]\n",
    "maldf = maldf[~(maldf['modeltype']=='nn_5')]\n",
    "maldf = maldf[~(maldf.modeltype.str.contains('dtree'))]\n",
    "maldf = maldf[~(maldf.dimred.str.contains('autoencoder') & maldf.dimred.str.contains('pca'))]\n",
    "maldf = maldf.drop(['precision', 'recall'], axis=1)"
   ]
  },
  {
   "cell_type": "code",
   "execution_count": 5,
   "id": "eb2869b8",
   "metadata": {},
   "outputs": [
    {
     "data": {
      "text/plain": [
       "dimred       autoencoder_100_2\n",
       "modeltype             bayesian\n",
       "accuracy              0.676173\n",
       "f1                    0.641088\n",
       "mcc                   0.607252\n",
       "Name: 70, dtype: object"
      ]
     },
     "execution_count": 5,
     "metadata": {},
     "output_type": "execute_result"
    }
   ],
   "source": [
    "maldf.iloc[maldf['accuracy'].idxmax()]"
   ]
  },
  {
   "cell_type": "code",
   "execution_count": 6,
   "id": "e1f3aae0",
   "metadata": {
    "scrolled": true
   },
   "outputs": [
    {
     "data": {
      "text/html": [
       "<div>\n",
       "<style scoped>\n",
       "    .dataframe tbody tr th:only-of-type {\n",
       "        vertical-align: middle;\n",
       "    }\n",
       "\n",
       "    .dataframe tbody tr th {\n",
       "        vertical-align: top;\n",
       "    }\n",
       "\n",
       "    .dataframe thead th {\n",
       "        text-align: right;\n",
       "    }\n",
       "</style>\n",
       "<table border=\"1\" class=\"dataframe\">\n",
       "  <thead>\n",
       "    <tr style=\"text-align: right;\">\n",
       "      <th></th>\n",
       "      <th>dimred</th>\n",
       "      <th>modeltype</th>\n",
       "      <th>accuracy</th>\n",
       "      <th>f1</th>\n",
       "      <th>mcc</th>\n",
       "    </tr>\n",
       "  </thead>\n",
       "  <tbody>\n",
       "    <tr>\n",
       "      <th>4482</th>\n",
       "      <td>autoencoder_500_13</td>\n",
       "      <td>svm_rbf</td>\n",
       "      <td>0.966881</td>\n",
       "      <td>0.967123</td>\n",
       "      <td>0.959862</td>\n",
       "    </tr>\n",
       "    <tr>\n",
       "      <th>4342</th>\n",
       "      <td>autoencoder_500_11</td>\n",
       "      <td>svm_rbf</td>\n",
       "      <td>0.966881</td>\n",
       "      <td>0.965648</td>\n",
       "      <td>0.959864</td>\n",
       "    </tr>\n",
       "    <tr>\n",
       "      <th>3642</th>\n",
       "      <td>autoencoder_400_14</td>\n",
       "      <td>svm_rbf</td>\n",
       "      <td>0.966881</td>\n",
       "      <td>0.967064</td>\n",
       "      <td>0.959883</td>\n",
       "    </tr>\n",
       "    <tr>\n",
       "      <th>1682</th>\n",
       "      <td>autoencoder_200_12</td>\n",
       "      <td>svm_rbf</td>\n",
       "      <td>0.966881</td>\n",
       "      <td>0.967041</td>\n",
       "      <td>0.959871</td>\n",
       "    </tr>\n",
       "    <tr>\n",
       "      <th>772</th>\n",
       "      <td>autoencoder_100_12</td>\n",
       "      <td>svm_rbf</td>\n",
       "      <td>0.967801</td>\n",
       "      <td>0.968051</td>\n",
       "      <td>0.961027</td>\n",
       "    </tr>\n",
       "    <tr>\n",
       "      <th>3502</th>\n",
       "      <td>autoencoder_400_12</td>\n",
       "      <td>svm_rbf</td>\n",
       "      <td>0.968261</td>\n",
       "      <td>0.968434</td>\n",
       "      <td>0.961573</td>\n",
       "    </tr>\n",
       "    <tr>\n",
       "      <th>2732</th>\n",
       "      <td>autoencoder_300_14</td>\n",
       "      <td>svm_rbf</td>\n",
       "      <td>0.968721</td>\n",
       "      <td>0.968856</td>\n",
       "      <td>0.962124</td>\n",
       "    </tr>\n",
       "    <tr>\n",
       "      <th>2662</th>\n",
       "      <td>autoencoder_300_13</td>\n",
       "      <td>svm_rbf</td>\n",
       "      <td>0.968721</td>\n",
       "      <td>0.968924</td>\n",
       "      <td>0.962157</td>\n",
       "    </tr>\n",
       "    <tr>\n",
       "      <th>3572</th>\n",
       "      <td>autoencoder_400_13</td>\n",
       "      <td>svm_rbf</td>\n",
       "      <td>0.970101</td>\n",
       "      <td>0.970301</td>\n",
       "      <td>0.963812</td>\n",
       "    </tr>\n",
       "    <tr>\n",
       "      <th>2</th>\n",
       "      <td>none</td>\n",
       "      <td>svm_rbf</td>\n",
       "      <td>0.978381</td>\n",
       "      <td>0.978586</td>\n",
       "      <td>0.973872</td>\n",
       "    </tr>\n",
       "  </tbody>\n",
       "</table>\n",
       "</div>"
      ],
      "text/plain": [
       "                  dimred modeltype  accuracy        f1       mcc\n",
       "4482  autoencoder_500_13   svm_rbf  0.966881  0.967123  0.959862\n",
       "4342  autoencoder_500_11   svm_rbf  0.966881  0.965648  0.959864\n",
       "3642  autoencoder_400_14   svm_rbf  0.966881  0.967064  0.959883\n",
       "1682  autoencoder_200_12   svm_rbf  0.966881  0.967041  0.959871\n",
       "772   autoencoder_100_12   svm_rbf  0.967801  0.968051  0.961027\n",
       "3502  autoencoder_400_12   svm_rbf  0.968261  0.968434  0.961573\n",
       "2732  autoencoder_300_14   svm_rbf  0.968721  0.968856  0.962124\n",
       "2662  autoencoder_300_13   svm_rbf  0.968721  0.968924  0.962157\n",
       "3572  autoencoder_400_13   svm_rbf  0.970101  0.970301  0.963812\n",
       "2                   none   svm_rbf  0.978381  0.978586  0.973872"
      ]
     },
     "execution_count": 6,
     "metadata": {},
     "output_type": "execute_result"
    }
   ],
   "source": [
    "maldf.sort_values('accuracy').tail(10)"
   ]
  },
  {
   "cell_type": "markdown",
   "id": "f904ea11",
   "metadata": {},
   "source": [
    "# Autoencoder variable tuning"
   ]
  },
  {
   "cell_type": "code",
   "execution_count": 7,
   "id": "98a3a88f",
   "metadata": {},
   "outputs": [
    {
     "name": "stdout",
     "output_type": "stream",
     "text": [
      "number of autoencoded 130\n"
     ]
    },
    {
     "data": {
      "text/plain": [
       "[         0\n",
       " 70    True\n",
       " 72    True\n",
       " 140   True\n",
       " 142   True\n",
       " 210   True\n",
       " ...    ...\n",
       " 4412  True\n",
       " 4480  True\n",
       " 4482  True\n",
       " 4550  True\n",
       " 4552  True\n",
       " \n",
       " [130 rows x 1 columns]]"
      ]
     },
     "execution_count": 7,
     "metadata": {},
     "output_type": "execute_result"
    }
   ],
   "source": [
    "autos = maldf[maldf['dimred'].str.contains('autoencoder')]\n",
    "print('number of autoencoded', len(autos))\n",
    "[~(maldf[maldf['dimred'].str.contains('autoencoder')].dimred.str.extract(r'pca_with_varthresh_([^_]*)_').replace(np.NaN, 'None') != 'None')]"
   ]
  },
  {
   "cell_type": "code",
   "execution_count": 8,
   "id": "0ab7084e",
   "metadata": {},
   "outputs": [
    {
     "name": "stderr",
     "output_type": "stream",
     "text": [
      "/tmp/ipykernel_207062/2904974846.py:1: SettingWithCopyWarning: \n",
      "A value is trying to be set on a copy of a slice from a DataFrame.\n",
      "Try using .loc[row_indexer,col_indexer] = value instead\n",
      "\n",
      "See the caveats in the documentation: https://pandas.pydata.org/pandas-docs/stable/user_guide/indexing.html#returning-a-view-versus-a-copy\n",
      "  autos['epochs'] = autos.dimred.str.extract(r'autoencoder_(\\d*)')\n",
      "/tmp/ipykernel_207062/2904974846.py:2: SettingWithCopyWarning: \n",
      "A value is trying to be set on a copy of a slice from a DataFrame.\n",
      "Try using .loc[row_indexer,col_indexer] = value instead\n",
      "\n",
      "See the caveats in the documentation: https://pandas.pydata.org/pandas-docs/stable/user_guide/indexing.html#returning-a-view-versus-a-copy\n",
      "  autos['pca'] = autos.dimred.str.extract(r'pca_with_varthresh_([^_]*)_')\n"
     ]
    }
   ],
   "source": [
    "autos['epochs'] = autos.dimred.str.extract(r'autoencoder_(\\d*)')\n",
    "autos['pca'] = autos.dimred.str.extract(r'pca_with_varthresh_([^_]*)_')\n",
    "autos = autos.replace(np.NaN, 'None')\n",
    "autos['latdim'] = autos.dimred.str.extract(r'autoencoder_\\d*_(\\d*)').infer_objects()"
   ]
  },
  {
   "cell_type": "code",
   "execution_count": 9,
   "id": "e681d4fd",
   "metadata": {},
   "outputs": [],
   "source": [
    "amelt = autos.melt(id_vars=['dimred', 'epochs', 'modeltype', 'latdim', 'pca'],\n",
    "                   var_name='metric', value_name='value')\n",
    "amelt['epochs'] = pd.to_numeric(amelt['epochs'])\n",
    "amelt['value'] = pd.to_numeric(amelt['value'])\n",
    "amelt['latdim'] = pd.to_numeric(amelt['latdim'])"
   ]
  },
  {
   "cell_type": "code",
   "execution_count": 10,
   "id": "de4a77e9",
   "metadata": {
    "scrolled": false
   },
   "outputs": [
    {
     "name": "stdout",
     "output_type": "stream",
     "text": [
      "bayesian\n",
      "svm\n"
     ]
    },
    {
     "data": {
      "image/png": "[encoded data removed]",
      "text/plain": [
       "<Figure size 936x576 with 2 Axes>"
      ]
     },
     "metadata": {
      "needs_background": "light"
     },
     "output_type": "display_data"
    }
   ],
   "source": [
    "\n",
    "fig = plt.figure(figsize=(13,8))\n",
    "sns.set(style=\"whitegrid\", rc={\"lines.linewidth\": 0.7})\n",
    "modtype = ['bayesian', 'svm']\n",
    "for i in range(2):\n",
    "    mod = modtype[i]\n",
    "    print(mod)\n",
    "    ax = fig.add_subplot(2, 2, i + 1)\n",
    "    sns.pointplot(data=amelt[amelt['modeltype'].str.contains(mod)],\n",
    "                  x='epochs',\n",
    "                  y='value',\n",
    "                  hue='metric',\n",
    "                  ax=ax)\n",
    "    ax.set(xlabel=mod + ': Number of epoch iterations', ylabel='Metric')"
   ]
  },
  {
   "cell_type": "code",
   "execution_count": 11,
   "id": "3df47932",
   "metadata": {},
   "outputs": [
    {
     "name": "stdout",
     "output_type": "stream",
     "text": [
      "number of autoencoded 130\n"
     ]
    },
    {
     "name": "stderr",
     "output_type": "stream",
     "text": [
      "/tmp/ipykernel_207062/1903945312.py:3: SettingWithCopyWarning: \n",
      "A value is trying to be set on a copy of a slice from a DataFrame.\n",
      "Try using .loc[row_indexer,col_indexer] = value instead\n",
      "\n",
      "See the caveats in the documentation: https://pandas.pydata.org/pandas-docs/stable/user_guide/indexing.html#returning-a-view-versus-a-copy\n",
      "  autos['epochs'] = autos.dimred.str.extract(r'autoencoder_(\\d*)')\n",
      "/tmp/ipykernel_207062/1903945312.py:4: SettingWithCopyWarning: \n",
      "A value is trying to be set on a copy of a slice from a DataFrame.\n",
      "Try using .loc[row_indexer,col_indexer] = value instead\n",
      "\n",
      "See the caveats in the documentation: https://pandas.pydata.org/pandas-docs/stable/user_guide/indexing.html#returning-a-view-versus-a-copy\n",
      "  autos['pca'] = autos.dimred.str.extract(r'pca_with_varthresh_([^_]*)_')\n"
     ]
    }
   ],
   "source": [
    "autos = maldf[maldf['dimred'].str.contains('autoencoder')]\n",
    "print('number of autoencoded', len(autos))\n",
    "autos['epochs'] = autos.dimred.str.extract(r'autoencoder_(\\d*)')\n",
    "autos['pca'] = autos.dimred.str.extract(r'pca_with_varthresh_([^_]*)_')\n",
    "autos = autos.replace(np.NaN, 'None')\n",
    "autos['latdim'] = autos.dimred.str.extract(r'autoencoder_\\d*_(\\d*)').infer_objects()"
   ]
  },
  {
   "cell_type": "code",
   "execution_count": 12,
   "id": "d14f6e74",
   "metadata": {},
   "outputs": [],
   "source": [
    "autos['epochs'] = autos.dimred.str.extract(r'autoencoder_(\\d*)')\n",
    "autos['pca'] = autos.dimred.str.extract(r'pca_with_varthresh_([^_]*)_')\n",
    "autos = autos.replace(np.NaN, 'None')\n",
    "autos['latdim'] = autos.dimred.str.extract(r'autoencoder_\\d*_(\\d*)').infer_objects()\n",
    "amelt = autos.melt(id_vars=['dimred', 'epochs', 'modeltype', 'latdim', 'pca'],\n",
    "                   var_name='metric', value_name='value')\n",
    "amelt['epochs'] = pd.to_numeric(amelt['epochs'])\n",
    "amelt['value'] = pd.to_numeric(amelt['value'])\n",
    "amelt['latdim'] = pd.to_numeric(amelt['latdim'])\n"
   ]
  },
  {
   "cell_type": "code",
   "execution_count": 13,
   "id": "d192007f",
   "metadata": {},
   "outputs": [
    {
     "name": "stdout",
     "output_type": "stream",
     "text": [
      "bayesian\n",
      "svm\n"
     ]
    },
    {
     "data": {
      "image/png": "[encoded data removed]",
      "text/plain": [
       "<Figure size 936x576 with 2 Axes>"
      ]
     },
     "metadata": {},
     "output_type": "display_data"
    }
   ],
   "source": [
    "fig = plt.figure(figsize=(13,8))\n",
    "sns.set(style=\"whitegrid\", rc={\"lines.linewidth\": 0.7})\n",
    "modtype = ['bayesian','svm']\n",
    "for i in range(2):\n",
    "    mod = modtype[i]\n",
    "    print(mod)\n",
    "    ax = fig.add_subplot(2, 2, i + 1)\n",
    "    sns.pointplot(data=amelt[amelt['modeltype'].str.contains(mod)],\n",
    "                  x='latdim',\n",
    "                  y='value',\n",
    "                  hue='metric',\n",
    "                  ax=ax)\n",
    "    ax.set(xlabel=mod + ': Number of latent dimentions', ylabel='Metric')"
   ]
  },
  {
   "cell_type": "markdown",
   "id": "b1622470",
   "metadata": {
    "scrolled": false
   },
   "source": [
    "fig = plt.figure(figsize=(24,16))\n",
    "sns.set(style=\"whitegrid\", rc={\"lines.linewidth\": 0.7})\n",
    "modtype = ['bayesian', 'svm']\n",
    "for i in range(3):\n",
    "    mod = modtype[i]\n",
    "    print(mod)\n",
    "    ax = fig.add_subplot(2, 2, i + 1)\n",
    "    sns.pointplot(data=amelt[amelt['modeltype'].str.contains(mod)],\n",
    "                  x='pca',\n",
    "                  y='value',\n",
    "                  hue='metric',\n",
    "                  ax=ax)\n",
    "    ax.set(xlabel=mod + ': PCA threshold', ylabel='Metric')"
   ]
  },
  {
   "cell_type": "markdown",
   "id": "58dbe162",
   "metadata": {},
   "source": [
    "## PCA"
   ]
  },
  {
   "cell_type": "code",
   "execution_count": 14,
   "id": "7e8efef1",
   "metadata": {
    "scrolled": true
   },
   "outputs": [
    {
     "name": "stdout",
     "output_type": "stream",
     "text": [
      "number of pcad 22\n"
     ]
    },
    {
     "name": "stderr",
     "output_type": "stream",
     "text": [
      "/tmp/ipykernel_207062/1577152530.py:3: SettingWithCopyWarning: \n",
      "A value is trying to be set on a copy of a slice from a DataFrame.\n",
      "Try using .loc[row_indexer,col_indexer] = value instead\n",
      "\n",
      "See the caveats in the documentation: https://pandas.pydata.org/pandas-docs/stable/user_guide/indexing.html#returning-a-view-versus-a-copy\n",
      "  pcas['pca'] = pcas.dimred.str.extract(r'pca_with_varthresh_([^_]*)')\n"
     ]
    }
   ],
   "source": [
    "pcas = maldf[maldf.dimred.str.match(r'pca_with_varthresh_[^_]*$')]\n",
    "print('number of pcad', len(pcas))\n",
    "pcas['pca'] = pcas.dimred.str.extract(r'pca_with_varthresh_([^_]*)')\n",
    "\n",
    "pmelt = pcas.melt(id_vars=['dimred', 'modeltype', 'pca'],\n",
    "                   var_name='metric', value_name='value')\n"
   ]
  },
  {
   "cell_type": "code",
   "execution_count": 15,
   "id": "7e8190c1",
   "metadata": {},
   "outputs": [
    {
     "name": "stdout",
     "output_type": "stream",
     "text": [
      "bayesian\n",
      "svm\n"
     ]
    },
    {
     "data": {
      "image/png": "[encoded data removed]",
      "text/plain": [
       "<Figure size 936x576 with 2 Axes>"
      ]
     },
     "metadata": {},
     "output_type": "display_data"
    }
   ],
   "source": [
    "\n",
    "fig = plt.figure(figsize=(13,8))\n",
    "sns.set(style=\"whitegrid\", rc={\"lines.linewidth\": 0.7})\n",
    "modtype = ['bayesian','svm']\n",
    "for i in range(2):\n",
    "    mod = modtype[i]\n",
    "    print(mod)\n",
    "    ax = fig.add_subplot(2, 2, i + 1)\n",
    "    sns.pointplot(data=pmelt[pmelt['modeltype'].str.contains(mod)],\n",
    "                  x='pca',\n",
    "                  y='value',\n",
    "                  hue='metric',\n",
    "                  ax=ax)\n",
    "    ax.set(xlabel=mod + ': PCA threshold', ylabel='Metric')\n"
   ]
  },
  {
   "cell_type": "markdown",
   "id": "2217100b",
   "metadata": {},
   "source": [
    "# ML metric comparison"
   ]
  },
  {
   "cell_type": "markdown",
   "id": "0968a803",
   "metadata": {},
   "source": [
    "## Baysian Network"
   ]
  },
  {
   "cell_type": "code",
   "execution_count": 16,
   "id": "e5239260",
   "metadata": {
    "scrolled": true
   },
   "outputs": [
    {
     "name": "stderr",
     "output_type": "stream",
     "text": [
      "/tmp/ipykernel_207062/1871819487.py:2: SettingWithCopyWarning: \n",
      "A value is trying to be set on a copy of a slice from a DataFrame.\n",
      "Try using .loc[row_indexer,col_indexer] = value instead\n",
      "\n",
      "See the caveats in the documentation: https://pandas.pydata.org/pandas-docs/stable/user_guide/indexing.html#returning-a-view-versus-a-copy\n",
      "  bayes['drtype'] = bayes['dimred']\\\n"
     ]
    },
    {
     "data": {
      "text/html": [
       "<div>\n",
       "<style scoped>\n",
       "    .dataframe tbody tr th:only-of-type {\n",
       "        vertical-align: middle;\n",
       "    }\n",
       "\n",
       "    .dataframe tbody tr th {\n",
       "        vertical-align: top;\n",
       "    }\n",
       "\n",
       "    .dataframe thead th {\n",
       "        text-align: right;\n",
       "    }\n",
       "</style>\n",
       "<table border=\"1\" class=\"dataframe\">\n",
       "  <thead>\n",
       "    <tr style=\"text-align: right;\">\n",
       "      <th></th>\n",
       "      <th>dimred</th>\n",
       "      <th>modeltype</th>\n",
       "      <th>accuracy</th>\n",
       "      <th>f1</th>\n",
       "      <th>mcc</th>\n",
       "      <th>drtype</th>\n",
       "    </tr>\n",
       "  </thead>\n",
       "  <tbody>\n",
       "    <tr>\n",
       "      <th>0</th>\n",
       "      <td>none</td>\n",
       "      <td>bayesian</td>\n",
       "      <td>0.760350</td>\n",
       "      <td>0.790289</td>\n",
       "      <td>0.721719</td>\n",
       "      <td>none</td>\n",
       "    </tr>\n",
       "    <tr>\n",
       "      <th>70</th>\n",
       "      <td>autoencoder_100_2</td>\n",
       "      <td>bayesian</td>\n",
       "      <td>0.676173</td>\n",
       "      <td>0.641088</td>\n",
       "      <td>0.607252</td>\n",
       "      <td>autoencoder</td>\n",
       "    </tr>\n",
       "    <tr>\n",
       "      <th>140</th>\n",
       "      <td>autoencoder_100_3</td>\n",
       "      <td>bayesian</td>\n",
       "      <td>0.650414</td>\n",
       "      <td>0.614272</td>\n",
       "      <td>0.580609</td>\n",
       "      <td>autoencoder</td>\n",
       "    </tr>\n",
       "    <tr>\n",
       "      <th>210</th>\n",
       "      <td>autoencoder_100_4</td>\n",
       "      <td>bayesian</td>\n",
       "      <td>0.786569</td>\n",
       "      <td>0.788731</td>\n",
       "      <td>0.745086</td>\n",
       "      <td>autoencoder</td>\n",
       "    </tr>\n",
       "    <tr>\n",
       "      <th>280</th>\n",
       "      <td>autoencoder_100_5</td>\n",
       "      <td>bayesian</td>\n",
       "      <td>0.815547</td>\n",
       "      <td>0.821936</td>\n",
       "      <td>0.781609</td>\n",
       "      <td>autoencoder</td>\n",
       "    </tr>\n",
       "    <tr>\n",
       "      <th>...</th>\n",
       "      <td>...</td>\n",
       "      <td>...</td>\n",
       "      <td>...</td>\n",
       "      <td>...</td>\n",
       "      <td>...</td>\n",
       "      <td>...</td>\n",
       "    </tr>\n",
       "    <tr>\n",
       "      <th>32340</th>\n",
       "      <td>pca_with_varthresh_0.95</td>\n",
       "      <td>bayesian</td>\n",
       "      <td>0.494020</td>\n",
       "      <td>0.472698</td>\n",
       "      <td>0.418324</td>\n",
       "      <td>pca</td>\n",
       "    </tr>\n",
       "    <tr>\n",
       "      <th>36960</th>\n",
       "      <td>pca_with_varthresh_0.96</td>\n",
       "      <td>bayesian</td>\n",
       "      <td>0.488960</td>\n",
       "      <td>0.465993</td>\n",
       "      <td>0.413029</td>\n",
       "      <td>pca</td>\n",
       "    </tr>\n",
       "    <tr>\n",
       "      <th>41580</th>\n",
       "      <td>pca_with_varthresh_0.97</td>\n",
       "      <td>bayesian</td>\n",
       "      <td>0.483441</td>\n",
       "      <td>0.459836</td>\n",
       "      <td>0.409563</td>\n",
       "      <td>pca</td>\n",
       "    </tr>\n",
       "    <tr>\n",
       "      <th>46200</th>\n",
       "      <td>pca_with_varthresh_0.98</td>\n",
       "      <td>bayesian</td>\n",
       "      <td>0.479761</td>\n",
       "      <td>0.456324</td>\n",
       "      <td>0.407977</td>\n",
       "      <td>pca</td>\n",
       "    </tr>\n",
       "    <tr>\n",
       "      <th>50820</th>\n",
       "      <td>pca_with_varthresh_0.99</td>\n",
       "      <td>bayesian</td>\n",
       "      <td>0.474241</td>\n",
       "      <td>0.452331</td>\n",
       "      <td>0.405238</td>\n",
       "      <td>pca</td>\n",
       "    </tr>\n",
       "  </tbody>\n",
       "</table>\n",
       "<p>77 rows × 6 columns</p>\n",
       "</div>"
      ],
      "text/plain": [
       "                        dimred modeltype  accuracy        f1       mcc  \\\n",
       "0                         none  bayesian  0.760350  0.790289  0.721719   \n",
       "70           autoencoder_100_2  bayesian  0.676173  0.641088  0.607252   \n",
       "140          autoencoder_100_3  bayesian  0.650414  0.614272  0.580609   \n",
       "210          autoencoder_100_4  bayesian  0.786569  0.788731  0.745086   \n",
       "280          autoencoder_100_5  bayesian  0.815547  0.821936  0.781609   \n",
       "...                        ...       ...       ...       ...       ...   \n",
       "32340  pca_with_varthresh_0.95  bayesian  0.494020  0.472698  0.418324   \n",
       "36960  pca_with_varthresh_0.96  bayesian  0.488960  0.465993  0.413029   \n",
       "41580  pca_with_varthresh_0.97  bayesian  0.483441  0.459836  0.409563   \n",
       "46200  pca_with_varthresh_0.98  bayesian  0.479761  0.456324  0.407977   \n",
       "50820  pca_with_varthresh_0.99  bayesian  0.474241  0.452331  0.405238   \n",
       "\n",
       "            drtype  \n",
       "0             none  \n",
       "70     autoencoder  \n",
       "140    autoencoder  \n",
       "210    autoencoder  \n",
       "280    autoencoder  \n",
       "...            ...  \n",
       "32340          pca  \n",
       "36960          pca  \n",
       "41580          pca  \n",
       "46200          pca  \n",
       "50820          pca  \n",
       "\n",
       "[77 rows x 6 columns]"
      ]
     },
     "execution_count": 16,
     "metadata": {},
     "output_type": "execute_result"
    }
   ],
   "source": [
    "bayes = maldf[maldf['modeltype'].str.contains('bayesian')]\n",
    "bayes['drtype'] = bayes['dimred']\\\n",
    "    .replace(regex=r'autoencoder.*', value='autoencoder')\\\n",
    "    .replace(regex=r'pca_with_varthresh_[^_]*', value='pca')\\\n",
    "    .replace(regex=r'pca_with_mle', value='pca')\n",
    "bayes"
   ]
  },
  {
   "cell_type": "code",
   "execution_count": 17,
   "id": "36aebf4c",
   "metadata": {
    "scrolled": true
   },
   "outputs": [
    {
     "data": {
      "text/plain": [
       "<seaborn.axisgrid.FacetGrid at 0x7f6e70f05b80>"
      ]
     },
     "execution_count": 17,
     "metadata": {},
     "output_type": "execute_result"
    },
    {
     "data": {
      "image/png": "[encoded data removed]",
      "text/plain": [
       "<Figure size 728.8x720 with 3 Axes>"
      ]
     },
     "metadata": {},
     "output_type": "display_data"
    }
   ],
   "source": [
    "baymelt = bayes[bayes.drtype != 'none'].melt(id_vars=['dimred', 'modeltype', 'drtype'],\n",
    "                     var_name='metric', value_name='value')\n",
    "baymelt['value'] = pd.to_numeric(baymelt['value'])\n",
    "sns.set(style=\"whitegrid\", rc={\"lines.linewidth\": 2})\n",
    "\n",
    "ax = sns.catplot(data=baymelt,x='drtype', y='value', col='metric', col_wrap=2,\n",
    "           kind='box')\n",
    "\n",
    "base = bayes[bayes.drtype == 'none']\n",
    "for a in ax.axes:\n",
    "    b = base[(a.title.get_text().split(' = ')[1])].loc[0]\n",
    "    a.axhline(b, ls='--')\n",
    "    a.set(xlabel='Dimentional reduction type', ylabel='Percent')\n",
    "#ax.axhline(baseacc)\n",
    "#ax.set(xlabel='Dimentional recduction type', ylabel='Percent')\n",
    "\n",
    "ax.add_legend()\n"
   ]
  },
  {
   "cell_type": "code",
   "execution_count": 18,
   "id": "d49a332e",
   "metadata": {},
   "outputs": [
    {
     "data": {
      "text/html": [
       "<div>\n",
       "<style scoped>\n",
       "    .dataframe tbody tr th:only-of-type {\n",
       "        vertical-align: middle;\n",
       "    }\n",
       "\n",
       "    .dataframe tbody tr th {\n",
       "        vertical-align: top;\n",
       "    }\n",
       "\n",
       "    .dataframe thead th {\n",
       "        text-align: right;\n",
       "    }\n",
       "</style>\n",
       "<table border=\"1\" class=\"dataframe\">\n",
       "  <thead>\n",
       "    <tr style=\"text-align: right;\">\n",
       "      <th></th>\n",
       "      <th>dimred</th>\n",
       "      <th>modeltype</th>\n",
       "      <th>accuracy</th>\n",
       "      <th>f1</th>\n",
       "      <th>mcc</th>\n",
       "      <th>drtype</th>\n",
       "    </tr>\n",
       "  </thead>\n",
       "  <tbody>\n",
       "    <tr>\n",
       "      <th>0</th>\n",
       "      <td>none</td>\n",
       "      <td>bayesian</td>\n",
       "      <td>0.760350</td>\n",
       "      <td>0.790289</td>\n",
       "      <td>0.721719</td>\n",
       "      <td>none</td>\n",
       "    </tr>\n",
       "    <tr>\n",
       "      <th>2590</th>\n",
       "      <td>autoencoder_300_12</td>\n",
       "      <td>bayesian</td>\n",
       "      <td>0.891904</td>\n",
       "      <td>0.892821</td>\n",
       "      <td>0.870143</td>\n",
       "      <td>autoencoder</td>\n",
       "    </tr>\n",
       "    <tr>\n",
       "      <th>9240</th>\n",
       "      <td>pca_with_varthresh_0.9</td>\n",
       "      <td>bayesian</td>\n",
       "      <td>0.589696</td>\n",
       "      <td>0.598669</td>\n",
       "      <td>0.522298</td>\n",
       "      <td>pca</td>\n",
       "    </tr>\n",
       "  </tbody>\n",
       "</table>\n",
       "</div>"
      ],
      "text/plain": [
       "                      dimred modeltype  accuracy        f1       mcc  \\\n",
       "0                       none  bayesian  0.760350  0.790289  0.721719   \n",
       "2590      autoencoder_300_12  bayesian  0.891904  0.892821  0.870143   \n",
       "9240  pca_with_varthresh_0.9  bayesian  0.589696  0.598669  0.522298   \n",
       "\n",
       "           drtype  \n",
       "0            none  \n",
       "2590  autoencoder  \n",
       "9240          pca  "
      ]
     },
     "execution_count": 18,
     "metadata": {},
     "output_type": "execute_result"
    }
   ],
   "source": [
    "bayes[bayes.groupby('drtype', sort=False)['accuracy'].transform(max) == bayes['accuracy']]"
   ]
  },
  {
   "cell_type": "code",
   "execution_count": 19,
   "id": "bc66f11c",
   "metadata": {},
   "outputs": [
    {
     "data": {
      "text/html": [
       "<div>\n",
       "<style scoped>\n",
       "    .dataframe tbody tr th:only-of-type {\n",
       "        vertical-align: middle;\n",
       "    }\n",
       "\n",
       "    .dataframe tbody tr th {\n",
       "        vertical-align: top;\n",
       "    }\n",
       "\n",
       "    .dataframe thead th {\n",
       "        text-align: right;\n",
       "    }\n",
       "</style>\n",
       "<table border=\"1\" class=\"dataframe\">\n",
       "  <thead>\n",
       "    <tr style=\"text-align: right;\">\n",
       "      <th></th>\n",
       "      <th>accuracy</th>\n",
       "      <th>f1</th>\n",
       "      <th>mcc</th>\n",
       "    </tr>\n",
       "    <tr>\n",
       "      <th>drtype</th>\n",
       "      <th></th>\n",
       "      <th></th>\n",
       "      <th></th>\n",
       "    </tr>\n",
       "  </thead>\n",
       "  <tbody>\n",
       "    <tr>\n",
       "      <th>autoencoder</th>\n",
       "      <td>0.826474</td>\n",
       "      <td>0.824842</td>\n",
       "      <td>0.793444</td>\n",
       "    </tr>\n",
       "    <tr>\n",
       "      <th>none</th>\n",
       "      <td>0.760350</td>\n",
       "      <td>0.790289</td>\n",
       "      <td>0.721719</td>\n",
       "    </tr>\n",
       "    <tr>\n",
       "      <th>pca</th>\n",
       "      <td>0.507652</td>\n",
       "      <td>0.492787</td>\n",
       "      <td>0.435660</td>\n",
       "    </tr>\n",
       "  </tbody>\n",
       "</table>\n",
       "</div>"
      ],
      "text/plain": [
       "             accuracy        f1       mcc\n",
       "drtype                                   \n",
       "autoencoder  0.826474  0.824842  0.793444\n",
       "none         0.760350  0.790289  0.721719\n",
       "pca          0.507652  0.492787  0.435660"
      ]
     },
     "execution_count": 19,
     "metadata": {},
     "output_type": "execute_result"
    }
   ],
   "source": [
    "bayes.groupby('drtype').mean()"
   ]
  },
  {
   "cell_type": "code",
   "execution_count": 20,
   "id": "04567209",
   "metadata": {
    "scrolled": false
   },
   "outputs": [
    {
     "data": {
      "text/html": [
       "<div>\n",
       "<style scoped>\n",
       "    .dataframe tbody tr th:only-of-type {\n",
       "        vertical-align: middle;\n",
       "    }\n",
       "\n",
       "    .dataframe tbody tr th {\n",
       "        vertical-align: top;\n",
       "    }\n",
       "\n",
       "    .dataframe thead th {\n",
       "        text-align: right;\n",
       "    }\n",
       "</style>\n",
       "<table border=\"1\" class=\"dataframe\">\n",
       "  <thead>\n",
       "    <tr style=\"text-align: right;\">\n",
       "      <th></th>\n",
       "      <th>dimred</th>\n",
       "      <th>modeltype</th>\n",
       "      <th>accuracy</th>\n",
       "      <th>f1</th>\n",
       "      <th>mcc</th>\n",
       "    </tr>\n",
       "    <tr>\n",
       "      <th>drtype</th>\n",
       "      <th></th>\n",
       "      <th></th>\n",
       "      <th></th>\n",
       "      <th></th>\n",
       "      <th></th>\n",
       "    </tr>\n",
       "  </thead>\n",
       "  <tbody>\n",
       "    <tr>\n",
       "      <th>none</th>\n",
       "      <td>none</td>\n",
       "      <td>bayesian</td>\n",
       "      <td>0.760350</td>\n",
       "      <td>0.790289</td>\n",
       "      <td>0.721719</td>\n",
       "    </tr>\n",
       "    <tr>\n",
       "      <th>autoencoder</th>\n",
       "      <td>autoencoder_500_9</td>\n",
       "      <td>bayesian</td>\n",
       "      <td>0.891904</td>\n",
       "      <td>0.892821</td>\n",
       "      <td>0.870143</td>\n",
       "    </tr>\n",
       "    <tr>\n",
       "      <th>pca</th>\n",
       "      <td>pca_with_varthresh_mle</td>\n",
       "      <td>bayesian</td>\n",
       "      <td>0.589696</td>\n",
       "      <td>0.598669</td>\n",
       "      <td>0.522298</td>\n",
       "    </tr>\n",
       "  </tbody>\n",
       "</table>\n",
       "</div>"
      ],
      "text/plain": [
       "                             dimred modeltype  accuracy        f1       mcc\n",
       "drtype                                                                     \n",
       "none                           none  bayesian  0.760350  0.790289  0.721719\n",
       "autoencoder       autoencoder_500_9  bayesian  0.891904  0.892821  0.870143\n",
       "pca          pca_with_varthresh_mle  bayesian  0.589696  0.598669  0.522298"
      ]
     },
     "execution_count": 20,
     "metadata": {},
     "output_type": "execute_result"
    }
   ],
   "source": [
    "bayes.groupby('drtype', sort=False).max()"
   ]
  },
  {
   "cell_type": "code",
   "execution_count": 21,
   "id": "78c5b262",
   "metadata": {},
   "outputs": [
    {
     "name": "stdout",
     "output_type": "stream",
     "text": [
      "accuracy\n",
      "f1\n",
      "mcc\n"
     ]
    },
    {
     "name": "stderr",
     "output_type": "stream",
     "text": [
      "/tmp/ipykernel_207062/1103262962.py:8: SettingWithCopyWarning: \n",
      "A value is trying to be set on a copy of a slice from a DataFrame.\n",
      "Try using .loc[row_indexer,col_indexer] = value instead\n",
      "\n",
      "See the caveats in the documentation: https://pandas.pydata.org/pandas-docs/stable/user_guide/indexing.html#returning-a-view-versus-a-copy\n",
      "  bayes[met + '_diff'] = bayes.apply(lambda x: calc_diff(x, met), axis=1)\n"
     ]
    }
   ],
   "source": [
    "def calc_diff(x,met):\n",
    "    samemodel = bayes['modeltype']==x['modeltype']\n",
    "    basemet = bayes[samemodel & (bayes['dimred'] == 'none')][met].iloc[0]\n",
    "    return x[met] - basemet\n",
    "\n",
    "for met in  ['accuracy', 'f1', 'mcc']:\n",
    "    print(met)\n",
    "    bayes[met + '_diff'] = bayes.apply(lambda x: calc_diff(x, met), axis=1)"
   ]
  },
  {
   "cell_type": "code",
   "execution_count": 22,
   "id": "a682b9cb",
   "metadata": {},
   "outputs": [
    {
     "data": {
      "text/html": [
       "<div>\n",
       "<style scoped>\n",
       "    .dataframe tbody tr th:only-of-type {\n",
       "        vertical-align: middle;\n",
       "    }\n",
       "\n",
       "    .dataframe tbody tr th {\n",
       "        vertical-align: top;\n",
       "    }\n",
       "\n",
       "    .dataframe thead th {\n",
       "        text-align: right;\n",
       "    }\n",
       "</style>\n",
       "<table border=\"1\" class=\"dataframe\">\n",
       "  <thead>\n",
       "    <tr style=\"text-align: right;\">\n",
       "      <th>drtype</th>\n",
       "      <th>autoencoder</th>\n",
       "      <th>none</th>\n",
       "      <th>pca</th>\n",
       "    </tr>\n",
       "  </thead>\n",
       "  <tbody>\n",
       "    <tr>\n",
       "      <th>accuracy_diff</th>\n",
       "      <td>0.066124</td>\n",
       "      <td>0.0</td>\n",
       "      <td>-0.252697</td>\n",
       "    </tr>\n",
       "    <tr>\n",
       "      <th>f1_diff</th>\n",
       "      <td>0.034552</td>\n",
       "      <td>0.0</td>\n",
       "      <td>-0.297502</td>\n",
       "    </tr>\n",
       "    <tr>\n",
       "      <th>mcc_diff</th>\n",
       "      <td>0.071725</td>\n",
       "      <td>0.0</td>\n",
       "      <td>-0.286058</td>\n",
       "    </tr>\n",
       "  </tbody>\n",
       "</table>\n",
       "</div>"
      ],
      "text/plain": [
       "drtype         autoencoder  none       pca\n",
       "accuracy_diff     0.066124   0.0 -0.252697\n",
       "f1_diff           0.034552   0.0 -0.297502\n",
       "mcc_diff          0.071725   0.0 -0.286058"
      ]
     },
     "execution_count": 22,
     "metadata": {},
     "output_type": "execute_result"
    }
   ],
   "source": [
    "agg = pd.DataFrame()\n",
    "for met in  ['accuracy', 'f1', 'mcc']:\n",
    "    agg = agg.append(bayes[['drtype', 'dimred', met + '_diff']].groupby('drtype').mean().T)\n",
    "\n",
    "agg"
   ]
  },
  {
   "cell_type": "code",
   "execution_count": 23,
   "id": "371ca60f",
   "metadata": {},
   "outputs": [
    {
     "name": "stdout",
     "output_type": "stream",
     "text": [
      "                             dimred  accuracy_diff\n",
      "drtype                                            \n",
      "autoencoder       autoencoder_500_9       0.131555\n",
      "none                           none       0.000000\n",
      "pca          pca_with_varthresh_mle      -0.170653\n",
      "                             dimred   f1_diff\n",
      "drtype                                       \n",
      "autoencoder       autoencoder_500_9  0.102531\n",
      "none                           none  0.000000\n",
      "pca          pca_with_varthresh_mle -0.191620\n",
      "                             dimred  mcc_diff\n",
      "drtype                                       \n",
      "autoencoder       autoencoder_500_9  0.148424\n",
      "none                           none  0.000000\n",
      "pca          pca_with_varthresh_mle -0.199421\n"
     ]
    }
   ],
   "source": [
    "for met in  ['accuracy', 'f1', 'mcc']:\n",
    "    print(bayes[['drtype', 'dimred', met + '_diff']].groupby('drtype').max())"
   ]
  },
  {
   "cell_type": "markdown",
   "id": "567bd5fe",
   "metadata": {},
   "source": [
    "### SVM_RBF"
   ]
  },
  {
   "cell_type": "code",
   "execution_count": 24,
   "id": "02b50a46",
   "metadata": {
    "scrolled": false
   },
   "outputs": [
    {
     "name": "stderr",
     "output_type": "stream",
     "text": [
      "/tmp/ipykernel_207062/3986701597.py:2: SettingWithCopyWarning: \n",
      "A value is trying to be set on a copy of a slice from a DataFrame.\n",
      "Try using .loc[row_indexer,col_indexer] = value instead\n",
      "\n",
      "See the caveats in the documentation: https://pandas.pydata.org/pandas-docs/stable/user_guide/indexing.html#returning-a-view-versus-a-copy\n",
      "  svms['drtype'] = svms['dimred']\\\n"
     ]
    },
    {
     "name": "stdout",
     "output_type": "stream",
     "text": [
      "                        dimred modeltype  accuracy        f1       mcc  \\\n",
      "2                         none   svm_rbf  0.978381  0.978586  0.973872   \n",
      "72           autoencoder_100_2   svm_rbf  0.819687  0.812460  0.780513   \n",
      "142          autoencoder_100_3   svm_rbf  0.779209  0.755093  0.730894   \n",
      "212          autoencoder_100_4   svm_rbf  0.920423  0.919481  0.904198   \n",
      "282          autoencoder_100_5   svm_rbf  0.937443  0.936863  0.924396   \n",
      "...                        ...       ...       ...       ...       ...   \n",
      "32342  pca_with_varthresh_0.95   svm_rbf  0.961362  0.961893  0.953394   \n",
      "36962  pca_with_varthresh_0.96   svm_rbf  0.959522  0.960079  0.951189   \n",
      "41582  pca_with_varthresh_0.97   svm_rbf  0.957682  0.958264  0.948993   \n",
      "46202  pca_with_varthresh_0.98   svm_rbf  0.956302  0.956847  0.947315   \n",
      "50822  pca_with_varthresh_0.99   svm_rbf  0.955842  0.956390  0.946771   \n",
      "\n",
      "            drtype  \n",
      "2             none  \n",
      "72     autoencoder  \n",
      "142    autoencoder  \n",
      "212    autoencoder  \n",
      "282    autoencoder  \n",
      "...            ...  \n",
      "32342          pca  \n",
      "36962          pca  \n",
      "41582          pca  \n",
      "46202          pca  \n",
      "50822          pca  \n",
      "\n",
      "[77 rows x 6 columns]\n"
     ]
    }
   ],
   "source": [
    "svms = maldf[maldf['modeltype'].str.contains('svm_rbf')]\n",
    "svms['drtype'] = svms['dimred']\\\n",
    "    .replace(regex=r'autoencoder.*', value='autoencoder')\\\n",
    "    .replace(regex=r'pca_with_varthresh_[^_]*', value='pca')\\\n",
    "    .replace(regex=r'pca_with_mle', value='pca')\n",
    "print(svms)"
   ]
  },
  {
   "cell_type": "code",
   "execution_count": 25,
   "id": "5d2d18a8",
   "metadata": {
    "scrolled": false
   },
   "outputs": [
    {
     "name": "stdout",
     "output_type": "stream",
     "text": [
      "accuracy\n",
      "f1\n",
      "mcc\n"
     ]
    },
    {
     "data": {
      "text/plain": [
       "<seaborn.axisgrid.FacetGrid at 0x7f6e70fc1310>"
      ]
     },
     "execution_count": 25,
     "metadata": {},
     "output_type": "execute_result"
    },
    {
     "data": {
      "image/png": "[encoded data removed]",
      "text/plain": [
       "<Figure size 728.8x720 with 3 Axes>"
      ]
     },
     "metadata": {},
     "output_type": "display_data"
    }
   ],
   "source": [
    "svmmelt = svms[svms.drtype != 'none'].melt(id_vars=['dimred', 'modeltype', 'drtype'],\n",
    "                     var_name='metric', value_name='value')\n",
    "svmmelt['value'] = pd.to_numeric(svmmelt['value'])\n",
    "sns.set(style=\"whitegrid\", rc={\"lines.linewidth\": 2})\n",
    "\n",
    "ax = sns.catplot(data=svmmelt,x='drtype', y='value', col='metric', col_wrap=2,\n",
    "           kind='box')\n",
    "\n",
    "base = svms[svms.drtype == 'none']\n",
    "for a in ax.axes:\n",
    "    print(a.title.get_text().split(' = ')[1])\n",
    "    b = base[a.title.get_text().split(' = ')[1]].iloc[0]\n",
    "    a.axhline(b, ls='--')\n",
    "    a.set(xlabel='Dimentional reduction type', ylabel='Percent')\n",
    "#ax.axhline(baseacc)\n",
    "#ax.set(xlabel='Dimentional recduction type', ylabel='Percent')\n",
    "\n",
    "ax.add_legend()\n"
   ]
  },
  {
   "cell_type": "code",
   "execution_count": 26,
   "id": "80c28c35",
   "metadata": {
    "scrolled": false
   },
   "outputs": [
    {
     "data": {
      "text/html": [
       "<div>\n",
       "<style scoped>\n",
       "    .dataframe tbody tr th:only-of-type {\n",
       "        vertical-align: middle;\n",
       "    }\n",
       "\n",
       "    .dataframe tbody tr th {\n",
       "        vertical-align: top;\n",
       "    }\n",
       "\n",
       "    .dataframe thead th {\n",
       "        text-align: right;\n",
       "    }\n",
       "</style>\n",
       "<table border=\"1\" class=\"dataframe\">\n",
       "  <thead>\n",
       "    <tr style=\"text-align: right;\">\n",
       "      <th></th>\n",
       "      <th>accuracy</th>\n",
       "      <th>f1</th>\n",
       "      <th>mcc</th>\n",
       "    </tr>\n",
       "    <tr>\n",
       "      <th>drtype</th>\n",
       "      <th></th>\n",
       "      <th></th>\n",
       "      <th></th>\n",
       "    </tr>\n",
       "  </thead>\n",
       "  <tbody>\n",
       "    <tr>\n",
       "      <th>autoencoder</th>\n",
       "      <td>0.940924</td>\n",
       "      <td>0.939366</td>\n",
       "      <td>0.928363</td>\n",
       "    </tr>\n",
       "    <tr>\n",
       "      <th>none</th>\n",
       "      <td>0.978381</td>\n",
       "      <td>0.978586</td>\n",
       "      <td>0.973872</td>\n",
       "    </tr>\n",
       "    <tr>\n",
       "      <th>pca</th>\n",
       "      <td>0.960651</td>\n",
       "      <td>0.961194</td>\n",
       "      <td>0.952544</td>\n",
       "    </tr>\n",
       "  </tbody>\n",
       "</table>\n",
       "</div>"
      ],
      "text/plain": [
       "             accuracy        f1       mcc\n",
       "drtype                                   \n",
       "autoencoder  0.940924  0.939366  0.928363\n",
       "none         0.978381  0.978586  0.973872\n",
       "pca          0.960651  0.961194  0.952544"
      ]
     },
     "execution_count": 26,
     "metadata": {},
     "output_type": "execute_result"
    }
   ],
   "source": [
    "svms.groupby('drtype').mean()"
   ]
  },
  {
   "cell_type": "code",
   "execution_count": 27,
   "id": "3e560d3e",
   "metadata": {
    "scrolled": true
   },
   "outputs": [
    {
     "data": {
      "text/html": [
       "<div>\n",
       "<style scoped>\n",
       "    .dataframe tbody tr th:only-of-type {\n",
       "        vertical-align: middle;\n",
       "    }\n",
       "\n",
       "    .dataframe tbody tr th {\n",
       "        vertical-align: top;\n",
       "    }\n",
       "\n",
       "    .dataframe thead th {\n",
       "        text-align: right;\n",
       "    }\n",
       "</style>\n",
       "<table border=\"1\" class=\"dataframe\">\n",
       "  <thead>\n",
       "    <tr style=\"text-align: right;\">\n",
       "      <th></th>\n",
       "      <th>dimred</th>\n",
       "      <th>modeltype</th>\n",
       "      <th>accuracy</th>\n",
       "      <th>f1</th>\n",
       "      <th>mcc</th>\n",
       "      <th>drtype</th>\n",
       "    </tr>\n",
       "  </thead>\n",
       "  <tbody>\n",
       "    <tr>\n",
       "      <th>2</th>\n",
       "      <td>none</td>\n",
       "      <td>svm_rbf</td>\n",
       "      <td>0.978381</td>\n",
       "      <td>0.978586</td>\n",
       "      <td>0.973872</td>\n",
       "      <td>none</td>\n",
       "    </tr>\n",
       "    <tr>\n",
       "      <th>3572</th>\n",
       "      <td>autoencoder_400_13</td>\n",
       "      <td>svm_rbf</td>\n",
       "      <td>0.970101</td>\n",
       "      <td>0.970301</td>\n",
       "      <td>0.963812</td>\n",
       "      <td>autoencoder</td>\n",
       "    </tr>\n",
       "    <tr>\n",
       "      <th>18482</th>\n",
       "      <td>pca_with_varthresh_0.92</td>\n",
       "      <td>svm_rbf</td>\n",
       "      <td>0.965501</td>\n",
       "      <td>0.966044</td>\n",
       "      <td>0.958378</td>\n",
       "      <td>pca</td>\n",
       "    </tr>\n",
       "  </tbody>\n",
       "</table>\n",
       "</div>"
      ],
      "text/plain": [
       "                        dimred modeltype  accuracy        f1       mcc  \\\n",
       "2                         none   svm_rbf  0.978381  0.978586  0.973872   \n",
       "3572        autoencoder_400_13   svm_rbf  0.970101  0.970301  0.963812   \n",
       "18482  pca_with_varthresh_0.92   svm_rbf  0.965501  0.966044  0.958378   \n",
       "\n",
       "            drtype  \n",
       "2             none  \n",
       "3572   autoencoder  \n",
       "18482          pca  "
      ]
     },
     "execution_count": 27,
     "metadata": {},
     "output_type": "execute_result"
    }
   ],
   "source": [
    "svms[svms.groupby('drtype', sort=False)['mcc'].transform(max) == svms['mcc']]"
   ]
  },
  {
   "cell_type": "code",
   "execution_count": 28,
   "id": "81eb27a3",
   "metadata": {},
   "outputs": [
    {
     "name": "stdout",
     "output_type": "stream",
     "text": [
      "accuracy\n",
      "f1\n",
      "mcc\n"
     ]
    },
    {
     "name": "stderr",
     "output_type": "stream",
     "text": [
      "/tmp/ipykernel_207062/2802363335.py:8: SettingWithCopyWarning: \n",
      "A value is trying to be set on a copy of a slice from a DataFrame.\n",
      "Try using .loc[row_indexer,col_indexer] = value instead\n",
      "\n",
      "See the caveats in the documentation: https://pandas.pydata.org/pandas-docs/stable/user_guide/indexing.html#returning-a-view-versus-a-copy\n",
      "  svms[met + '_diff'] = svms.apply(lambda x: calc_diff(x, met), axis=1)\n"
     ]
    }
   ],
   "source": [
    "def calc_diff(x,met):\n",
    "    samemodel = svms['modeltype']==x['modeltype']\n",
    "    basemet = svms[samemodel & (svms['dimred'] == 'none')][met].iloc[0]\n",
    "    return x[met] - basemet\n",
    "\n",
    "for met in  ['accuracy', 'f1', 'mcc']:\n",
    "    print(met)\n",
    "    svms[met + '_diff'] = svms.apply(lambda x: calc_diff(x, met), axis=1)"
   ]
  },
  {
   "cell_type": "code",
   "execution_count": 29,
   "id": "38fba4ae",
   "metadata": {},
   "outputs": [
    {
     "data": {
      "text/html": [
       "<div>\n",
       "<style scoped>\n",
       "    .dataframe tbody tr th:only-of-type {\n",
       "        vertical-align: middle;\n",
       "    }\n",
       "\n",
       "    .dataframe tbody tr th {\n",
       "        vertical-align: top;\n",
       "    }\n",
       "\n",
       "    .dataframe thead th {\n",
       "        text-align: right;\n",
       "    }\n",
       "</style>\n",
       "<table border=\"1\" class=\"dataframe\">\n",
       "  <thead>\n",
       "    <tr style=\"text-align: right;\">\n",
       "      <th>drtype</th>\n",
       "      <th>autoencoder</th>\n",
       "      <th>none</th>\n",
       "      <th>pca</th>\n",
       "    </tr>\n",
       "  </thead>\n",
       "  <tbody>\n",
       "    <tr>\n",
       "      <th>accuracy_diff</th>\n",
       "      <td>-0.037457</td>\n",
       "      <td>0.0</td>\n",
       "      <td>-0.017730</td>\n",
       "    </tr>\n",
       "    <tr>\n",
       "      <th>f1_diff</th>\n",
       "      <td>-0.039220</td>\n",
       "      <td>0.0</td>\n",
       "      <td>-0.017392</td>\n",
       "    </tr>\n",
       "    <tr>\n",
       "      <th>mcc_diff</th>\n",
       "      <td>-0.045509</td>\n",
       "      <td>0.0</td>\n",
       "      <td>-0.021328</td>\n",
       "    </tr>\n",
       "  </tbody>\n",
       "</table>\n",
       "</div>"
      ],
      "text/plain": [
       "drtype         autoencoder  none       pca\n",
       "accuracy_diff    -0.037457   0.0 -0.017730\n",
       "f1_diff          -0.039220   0.0 -0.017392\n",
       "mcc_diff         -0.045509   0.0 -0.021328"
      ]
     },
     "execution_count": 29,
     "metadata": {},
     "output_type": "execute_result"
    }
   ],
   "source": [
    "agg = pd.DataFrame()\n",
    "for met in  ['accuracy', 'f1', 'mcc']:\n",
    "    agg = agg.append(svms[['drtype', 'dimred', met + '_diff']].groupby('drtype').mean().T)\n",
    "\n",
    "agg"
   ]
  },
  {
   "cell_type": "markdown",
   "id": "d17a5646",
   "metadata": {},
   "source": [
    "## DTs"
   ]
  },
  {
   "cell_type": "markdown",
   "id": "da63efbb",
   "metadata": {},
   "source": [
    "### variable tuning"
   ]
  },
  {
   "cell_type": "markdown",
   "id": "e7b8f06a",
   "metadata": {
    "scrolled": true
   },
   "source": [
    "dtrees = maldf[maldf['modeltype'].str.contains('dtree')]\n",
    "dtrees['drtype'] = dtrees['dimred']\\\n",
    "    .replace(regex=r'autoencoder.*', value='autoencoder')\\\n",
    "    .replace(regex=r'pca_with_varthresh_[^_]*', value='pca')\\\n",
    "    .replace(regex=r'pca_with_mle', value='pca')\n",
    "dtrees['criterion'] = dtrees.modeltype.str.extract(r'dtree_([^_]*)_')\n",
    "dtrees['splitter'] = dtrees.modeltype.str.extract(r'dtree_[^_]*_([^_]*)_')\n",
    "dtrees['min_samples_split'] = dtrees.modeltype.str.extract(r'dtree_[^_]*_[^_]*_([^_]*)_')\n",
    "dtrees['min_samples_leaf'] = dtrees.modeltype.str.extract(r'dtree_[^_]*_[^_]*_[^_]*_([^_]*)')\n",
    "\n",
    "print(dtrees)\n",
    "\n",
    "ax = plt.figure(figsize=(13,8))\n",
    "sns.boxenplot(data=dtrees, x='criterion', y='mcc', hue='splitter')"
   ]
  },
  {
   "cell_type": "markdown",
   "id": "3d833847",
   "metadata": {},
   "source": [
    "dtrees[dtrees.groupby(['criterion', 'splitter'])['mcc'].transform(max) == dtrees['mcc']][['criterion', 'splitter', 'dimred', 'modeltype', 'accuracy', 'f1', 'mcc']]"
   ]
  },
  {
   "cell_type": "markdown",
   "id": "59c40c93",
   "metadata": {},
   "source": [
    "dtrees.groupby(['criterion', 'splitter']).mean()"
   ]
  },
  {
   "cell_type": "markdown",
   "id": "d344f49c",
   "metadata": {},
   "source": [
    "dtrees.groupby(['criterion', 'splitter']).max()"
   ]
  },
  {
   "cell_type": "markdown",
   "id": "ef5010b3",
   "metadata": {},
   "source": [
    "dtrees.groupby('drtype').mean()"
   ]
  },
  {
   "cell_type": "markdown",
   "id": "75673740",
   "metadata": {},
   "source": [
    "dtrees.groupby('drtype', sort=False).max()"
   ]
  },
  {
   "cell_type": "markdown",
   "id": "fded4a2e",
   "metadata": {},
   "source": [
    "dtrees.groupby(['min_samples_split', 'min_samples_leaf']).mean()"
   ]
  },
  {
   "cell_type": "markdown",
   "id": "d7c7df65",
   "metadata": {},
   "source": [
    "dtrees.groupby(['min_samples_split', 'min_samples_leaf']).max()"
   ]
  },
  {
   "cell_type": "markdown",
   "id": "a6b522df",
   "metadata": {
    "scrolled": true
   },
   "source": [
    "for met in  ['accuracy', 'f1', 'mcc']:\n",
    "    print(dtrees[dtrees[met] == dtrees[met].max()])"
   ]
  },
  {
   "cell_type": "markdown",
   "id": "72c6f12a",
   "metadata": {
    "scrolled": true
   },
   "source": [
    "def calc_diff(x,met):\n",
    "    samemodel = dtrees['modeltype']==x['modeltype']\n",
    "    basemet = dtrees[samemodel & (dtrees['dimred'] == 'none')][met].iloc[0]\n",
    "    return x[met] - basemet\n",
    "for met in  ['accuracy', 'f1', 'mcc']:\n",
    "    print(met)\n",
    "    dtrees[met + '_diff'] = dtrees.apply(lambda x: calc_diff(x, met), axis=1)"
   ]
  },
  {
   "cell_type": "markdown",
   "id": "c5823df2",
   "metadata": {
    "scrolled": true
   },
   "source": [
    "fig = plt.figure(figsize=(20,13))\n",
    "\n",
    "sns.set(style=\"whitegrid\", rc={\"lines.linewidth\": 0.7})\n",
    "for i in range(3):\n",
    "    met = ['accuracy_diff', 'f1_diff', 'mcc_diff'][i]\n",
    "    ax = fig.add_subplot(2, 3, i + 1)\n",
    "    sns.boxplot(data=dtrees[dtrees['drtype'] != 'none'], x='drtype', y=met)\n",
    "    ax.set(xlabel='Dimention Reduction Technique')\n",
    "    "
   ]
  },
  {
   "cell_type": "markdown",
   "id": "2da7699f",
   "metadata": {},
   "source": [
    "agg = pd.DataFrame()\n",
    "for met in  ['accuracy','f1', 'mcc']:\n",
    "    agg = agg.append(dtrees[dtrees[met] == dtrees[met].max()])\n",
    "\n",
    "agg"
   ]
  },
  {
   "cell_type": "markdown",
   "id": "5bb0b7de",
   "metadata": {},
   "source": [
    "# Neural Nets"
   ]
  },
  {
   "cell_type": "markdown",
   "id": "bcdf7a07",
   "metadata": {},
   "source": [
    "nns = maldf[maldf['modeltype'].str.contains('nn')]\n",
    "nns['drtype'] = nns['dimred']\\\n",
    "    .replace(regex=r'autoencoder.*', value='autoencoder')\\\n",
    "    .replace(regex=r'pca_with_varthresh_[^_]*', value='pca')\\\n",
    "    .replace(regex=r'pca_with_mle', value='pca')\n",
    "nns['layers'] = nns.modeltype.str.extract(r'nn_([^_]*)')\n",
    "\n",
    "print(nns)"
   ]
  },
  {
   "cell_type": "markdown",
   "id": "f88d7976",
   "metadata": {},
   "source": [
    "nnmelt = nns[nns.drtype == 'none'].melt(id_vars=['dimred', 'modeltype', 'drtype', 'layers'],\n",
    "                     var_name='metric', value_name='value')\n",
    "nnmelt['value'] = pd.to_numeric(nnmelt['value'])\n",
    "\n",
    "sns.set(style=\"whitegrid\", rc={\"lines.linewidth\": 0.7})\n",
    "ax = sns.catplot(data=nnmelt,\n",
    "                 x='layers',\n",
    "                 y='value',\n",
    "                 hue='metric',\n",
    "                 kind='point',\n",
    "                 aspect=13/8,\n",
    "                 height= 6,\n",
    "                 linestyles='--',\n",
    "                 linewidth=0.5)\n",
    "\n",
    "ax.set(xlabel='Number of hidden layers', ylabel='Percent')"
   ]
  },
  {
   "cell_type": "markdown",
   "id": "f45c2ad1",
   "metadata": {},
   "source": [
    "nns[nns.drtype == 'none'].groupby('layers').mean()"
   ]
  },
  {
   "cell_type": "markdown",
   "id": "579a4d24",
   "metadata": {},
   "source": [
    "nns[nns['accuracy'] == nns['accuracy'].max()]"
   ]
  },
  {
   "cell_type": "markdown",
   "id": "9524cf20",
   "metadata": {},
   "source": [
    "def calc_diff(x,met):\n",
    "    samemodel = nns['modeltype']==x['modeltype']\n",
    "    basemet = nns[samemodel & (nns['dimred'] == 'none')][met].iloc[0]\n",
    "    return x[met] - basemet\n",
    "\n",
    "for met in  ['accuracy', 'precision', 'recall', 'f1', 'mcc']:\n",
    "    print(met)\n",
    "    nns[met + '_diff'] = nns.apply(lambda x: calc_diff(x, met), axis=1)"
   ]
  },
  {
   "cell_type": "markdown",
   "id": "8c663760",
   "metadata": {
    "scrolled": true
   },
   "source": [
    "fig = plt.figure(figsize=(20,13))\n",
    "for i in range(5):\n",
    "    met = ['accuracy_diff', 'precision_diff', 'recall_diff', 'f1_diff', 'mcc_diff'][i]\n",
    "    ax = fig.add_subplot(2, 3, i + 1)\n",
    "    sns.boxplot(data=nns[nns['drtype'] != 'none'], x='drtype', y=met)\n",
    "    ax.set(xlabel='Dimention Reduction Technique')\n",
    "    "
   ]
  }
 ],
 "metadata": {
  "kernelspec": {
   "display_name": "Python 3 (ipykernel)",
   "language": "python",
   "name": "python3"
  },
  "language_info": {
   "codemirror_mode": {
    "name": "ipython",
    "version": 3
   },
   "file_extension": ".py",
   "mimetype": "text/x-python",
   "name": "python",
   "nbconvert_exporter": "python",
   "pygments_lexer": "ipython3",
   "version": "3.9.7"
  }
 },
 "nbformat": 4,
 "nbformat_minor": 5
}
